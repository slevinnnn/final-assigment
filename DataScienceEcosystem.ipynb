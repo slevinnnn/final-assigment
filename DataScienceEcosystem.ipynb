{
 "cells": [
  {
   "cell_type": "markdown",
   "id": "339dcc27",
   "metadata": {},
   "source": [
    "# Data Science Tools and Ecosystem\n"
   ]
  },
  {
   "cell_type": "markdown",
   "id": "5b83edcd",
   "metadata": {},
   "source": [
    "### In this notebook, Data Science Tools and Ecosystem are summarized."
   ]
  },
  {
   "cell_type": "markdown",
   "id": "f084e3ff",
   "metadata": {},
   "source": [
    "**Objectives:**\n",
    "* List popular languages for Data Science\n",
    "* Introduction to python\n",
    "* introduction to R\n",
    "* introduction to github"
   ]
  },
  {
   "cell_type": "markdown",
   "id": "8c8cde6e",
   "metadata": {},
   "source": [
    "#### Some of the popular languages that Data Scientists use are:\n",
    "1. Python\n",
    "2. R\n",
    "3. C++"
   ]
  },
  {
   "cell_type": "markdown",
   "id": "5d05ab06",
   "metadata": {},
   "source": [
    "#### Some of the commonly used libraries used by Data Scientists include:\n",
    "1. numpy\n",
    "2. pyplotlib\n",
    "3. GGplot"
   ]
  },
  {
   "cell_type": "markdown",
   "id": "7da082dc",
   "metadata": {},
   "source": [
    "|Data Science Tool|\n",
    "|---|\n",
    "|Jupyter notebook|\n",
    "|anconda|\n",
    "|Rstudio|"
   ]
  },
  {
   "cell_type": "markdown",
   "id": "19f798de",
   "metadata": {},
   "source": [
    "### Below are a few examples of evaluating arithmetic expressions in Python"
   ]
  },
  {
   "cell_type": "code",
   "execution_count": 1,
   "id": "d6f3a7c3",
   "metadata": {},
   "outputs": [
    {
     "data": {
      "text/plain": [
       "17"
      ]
     },
     "execution_count": 1,
     "metadata": {},
     "output_type": "execute_result"
    }
   ],
   "source": [
    "#This a simple arithmetic expression to mutiply then add integers\n",
    "(3*4)+5"
   ]
  },
  {
   "cell_type": "code",
   "execution_count": 6,
   "id": "5a127c29",
   "metadata": {},
   "outputs": [
    {
     "data": {
      "text/plain": [
       "3.3333333333333335"
      ]
     },
     "execution_count": 6,
     "metadata": {},
     "output_type": "execute_result"
    }
   ],
   "source": [
    "#This will convert 200 minutes to hours by diving by 60\n",
    "hours=200/60\n",
    "hours\n"
   ]
  },
  {
   "cell_type": "markdown",
   "id": "198d9e88",
   "metadata": {},
   "source": [
    "## Author\n",
    "Daniel Ayala"
   ]
  },
  {
   "cell_type": "markdown",
   "id": "070f3e96",
   "metadata": {},
   "source": [
    "[link repo in github](https://github.com/slevinnnn/final-assigment)"
   ]
  },
  {
   "cell_type": "code",
   "execution_count": null,
   "id": "915c33f3",
   "metadata": {},
   "outputs": [],
   "source": []
  }
 ],
 "metadata": {
  "kernelspec": {
   "display_name": "Python 3 (ipykernel)",
   "language": "python",
   "name": "python3"
  },
  "language_info": {
   "codemirror_mode": {
    "name": "ipython",
    "version": 3
   },
   "file_extension": ".py",
   "mimetype": "text/x-python",
   "name": "python",
   "nbconvert_exporter": "python",
   "pygments_lexer": "ipython3",
   "version": "3.10.9"
  }
 },
 "nbformat": 4,
 "nbformat_minor": 5
}
